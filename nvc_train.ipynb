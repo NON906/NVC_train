{
  "nbformat": 4,
  "nbformat_minor": 0,
  "metadata": {
    "colab": {
      "name": "nvc_train.ipynb",
      "version": "0.3.2",
      "provenance": [],
      "collapsed_sections": []
    },
    "kernelspec": {
      "name": "python3",
      "display_name": "Python 3"
    },
    "accelerator": "TPU"
  },
  "cells": [
    {
      "metadata": {
        "id": "0loz5gOz7anQ",
        "colab_type": "text"
      },
      "cell_type": "markdown",
      "source": [
        "（※このファイルはGoogle Colaboratory用です。他の環境では未検証です）\n",
        "\n",
        "（※**Googleドライブの機能を使用します。**途中の結果がドライブ上に保存されます。空き容量に注意してください）\n",
        "\n",
        "（※2-1.以降の実行後、再度1-1.から実行したい場合は「ランタイム→すべてのランタイムのリセット...」を実行してリセットしてください）"
      ]
    },
    {
      "metadata": {
        "id": "sUjVH8CvNxE_",
        "colab_type": "text"
      },
      "cell_type": "markdown",
      "source": [
        "##1. 音源の学習処理"
      ]
    },
    {
      "metadata": {
        "id": "BI17DC618ckR",
        "colab_type": "text"
      },
      "cell_type": "markdown",
      "source": [
        "1-1. 以下のコードを実行し、音声ファイルを圧縮したzipファイルをアップロードしてください。"
      ]
    },
    {
      "metadata": {
        "id": "VpcN4sZK4Gmr",
        "colab_type": "code",
        "colab": {}
      },
      "cell_type": "code",
      "source": [
        "%cd /content\n",
        "\n",
        "# 音声の入ったzipファイルをアップロード\n",
        "from google.colab import files\n",
        "import os\n",
        "\n",
        "uploaded = files.upload()\n",
        "\n",
        "for fn in uploaded.keys():\n",
        "    os.rename(fn, 'targets.zip')"
      ],
      "execution_count": 0,
      "outputs": []
    },
    {
      "metadata": {
        "id": "_j3zg8zn5iw-",
        "colab_type": "text"
      },
      "cell_type": "markdown",
      "source": [
        "1-2. メイン処理です。以下のコードを実行してください。\n",
        "\n",
        "（途中でURLが表示され、止まることがあります。その場合はURLにアクセスし、キーを入力欄に貼り付けてください）\n",
        "\n",
        "（タイムアウトなどで途中で終了した場合でも、このコードを再度実行すれば続きから再開されます）\n",
        "\n",
        "（一度、他の音源を作成した場合は、実行前にドライブ上のnvcディレクトリを移動させるか、retrain_flagをFalseにしてください）"
      ]
    },
    {
      "metadata": {
        "colab_type": "code",
        "id": "DLdcVBSeb5WY",
        "colab": {}
      },
      "cell_type": "code",
      "source": [
        "# ↓途中で終了した場合にそこから再開するか。新規に作成する場合はFalseにすること\n",
        "retrain_flag = True\n",
        "# ---\n",
        "\n",
        "import zipfile\n",
        "import os\n",
        "import shutil\n",
        "\n",
        "%cd /content\n",
        "\n",
        "if not os.path.isdir('NVC_train'):\n",
        "    # リポジトリをクローンし、フォルダ内へ移動\n",
        "    !git clone https://github.com/NON906/NVC_train.git\n",
        "    %cd NVC_train\n",
        "\n",
        "    # Googleドライブに接続\n",
        "    from google.colab import drive\n",
        "    drive.mount('drive')\n",
        "else:\n",
        "    %cd NVC_train\n",
        "    \n",
        "# メイン処理開始\n",
        "\n",
        "outputs_dir = os.getcwd() + '/drive/My Drive/nvc'\n",
        "\n",
        "if not retrain_flag:\n",
        "    if os.path.isdir(outputs_dir):\n",
        "        shutil.rmtree(outputs_dir)\n",
        "    if os.path.isdir('gen_targets'):\n",
        "        shutil.rmtree('gen_targets')\n",
        "\n",
        "if (not os.path.isfile(outputs_dir + '/target.nvm') or not os.path.isfile(outputs_dir + '/gen_targets.zip')) and not os.path.isdir(outputs_dir + '/targets'):\n",
        "    # インストール\n",
        "    !apt-get -y install unar sox csh > /dev/null 2>&1\n",
        "\n",
        "    # SPTKのインストール\n",
        "    !wget http://downloads.sourceforge.net/sp-tk/SPTK-3.11.tar.gz > /dev/null 2>&1\n",
        "    !unar SPTK-3.11.tar.gz > /dev/null 2>&1\n",
        "    %cd SPTK-3.11\n",
        "    !./configure > /dev/null 2>&1\n",
        "    !make > /dev/null 2>&1\n",
        "    !make install > /dev/null 2>&1\n",
        "    %cd ..\n",
        "\n",
        "    # アップロードしたzipファイルを解凍\n",
        "    !unar -o targets ../targets.zip > /dev/null 2>&1\n",
        "\n",
        "from scripts.make_nvm import make_nvm_main\n",
        "from scripts.gen_targets import gen_targets_main\n",
        "\n",
        "if not os.path.isfile(outputs_dir + '/target.nvm'):\n",
        "    make_nvm_main('targets', outputs_dir + '/target.nvm')\n",
        "    \n",
        "if not os.path.isfile(outputs_dir + '/gen_targets.zip'):\n",
        "    gen_targets_main('targets', 'gen_targets', outputs_dir + '/gen_targets.zip')\n",
        "else:\n",
        "    with zipfile.ZipFile(outputs_dir + '/gen_targets.zip') as existing_zip:\n",
        "        existing_zip.extractall('gen_targets')\n",
        "    \n",
        "from scripts.target_train_tpu import target_train_tpu_main\n",
        "from scripts.target_train_tpu_convert import target_train_tpu_convert_main\n",
        "from scripts.target_pitch_train_tpu import target_pitch_train_tpu_main\n",
        "from scripts.target_pitch_train_tpu_convert import target_pitch_train_tpu_convert_main\n",
        "\n",
        "if not os.path.isfile(outputs_dir + '/target.h5'):\n",
        "    target_train_tpu_main('gen_targets', 'target_tpu.h5', 20, 6400, 32, 5)\n",
        "    target_train_tpu_convert_main('target_tpu.h5', outputs_dir + '/target.h5')\n",
        "\n",
        "if not os.path.isfile(outputs_dir + '/pitch.h5'):\n",
        "    target_pitch_train_tpu_main('gen_targets', 'pitch_tpu.h5', 20, 6400, 32, 5)\n",
        "    target_pitch_train_tpu_convert_main('pitch_tpu.h5', outputs_dir + '/pitch.h5')\n",
        "else:\n",
        "    print('ドライブ上のnvcディレクトリを移動させるか、retrain_flagをFalseにしてください')"
      ],
      "execution_count": 0,
      "outputs": []
    },
    {
      "metadata": {
        "id": "J52MwyWJOd6_",
        "colab_type": "text"
      },
      "cell_type": "markdown",
      "source": [
        "---"
      ]
    },
    {
      "metadata": {
        "id": "pZi6DpRwOh1U",
        "colab_type": "text"
      },
      "cell_type": "markdown",
      "source": [
        "##2. 学習データの変換"
      ]
    },
    {
      "metadata": {
        "id": "ZKjPJ5HIO6Ql",
        "colab_type": "text"
      },
      "cell_type": "markdown",
      "source": [
        "2-1. 以下のコードを実行してください。"
      ]
    },
    {
      "metadata": {
        "id": "qw91wGA18b08",
        "colab_type": "code",
        "colab": {}
      },
      "cell_type": "code",
      "source": [
        "!pip install tensorflow==1.7.1"
      ],
      "execution_count": 0,
      "outputs": []
    },
    {
      "metadata": {
        "id": "wrJvsHh2PA8L",
        "colab_type": "text"
      },
      "cell_type": "markdown",
      "source": [
        "2-2. 上部メニューの「ランタイム→ランタイムを再起動...」から再起動してください。"
      ]
    },
    {
      "metadata": {
        "id": "LcjunkhfQu1Y",
        "colab_type": "text"
      },
      "cell_type": "markdown",
      "source": [
        "2-3. 以下のコードを実行してください。"
      ]
    },
    {
      "metadata": {
        "id": "JD9AqcIycA2M",
        "colab_type": "code",
        "colab": {}
      },
      "cell_type": "code",
      "source": [
        "import sys\n",
        "import os\n",
        "\n",
        "%cd /content\n",
        "\n",
        "if not os.path.isdir('NVC_train'):\n",
        "    # リポジトリをクローンし、フォルダ内へ移動\n",
        "    !git clone https://github.com/NON906/NVC_train.git\n",
        "    %cd NVC_train\n",
        "\n",
        "    # Googleドライブに接続\n",
        "    from google.colab import drive\n",
        "    drive.mount('drive')\n",
        "else:\n",
        "    %cd NVC_train\n",
        "    \n",
        "from scripts.target_convert_h5_to_pb import convert_h5_to_pb_main\n",
        "from scripts.make_nvz import make_nvz_main\n",
        "\n",
        "outputs_dir = os.getcwd() + '/drive/My Drive/nvc'\n",
        "\n",
        "convert_h5_to_pb_main(outputs_dir + '/target.h5', outputs_dir + '/target.pb', 'target_dense_f/add')\n",
        "convert_h5_to_pb_main(outputs_dir + '/pitch.h5', outputs_dir + '/pitch.pb', 'pitch_relu_f/Relu')\n",
        "\n",
        "make_nvz_main(outputs_dir + '/target.nvz', outputs_dir + '/target.nvm', outputs_dir + '/target.pb', outputs_dir + '/pitch.pb')"
      ],
      "execution_count": 0,
      "outputs": []
    },
    {
      "metadata": {
        "id": "oJ0oxocrPk2V",
        "colab_type": "text"
      },
      "cell_type": "markdown",
      "source": [
        "note. 2-3.の実行後、以下のコードからダウンロード版用のファイルをダウンロードできます。"
      ]
    },
    {
      "metadata": {
        "id": "dSVxMMJVP1aL",
        "colab_type": "code",
        "colab": {}
      },
      "cell_type": "code",
      "source": [
        "%cd /content/NVC_train\n",
        "\n",
        "from google.colab import files\n",
        "\n",
        "outputs_dir = os.getcwd() + '/drive/My Drive/nvc'\n",
        "files.download(outputs_dir + '/target.nvz')"
      ],
      "execution_count": 0,
      "outputs": []
    },
    {
      "metadata": {
        "id": "rxB8Ii-tQcL1",
        "colab_type": "text"
      },
      "cell_type": "markdown",
      "source": [
        "---"
      ]
    },
    {
      "metadata": {
        "id": "2qDr-EJFQdl7",
        "colab_type": "text"
      },
      "cell_type": "markdown",
      "source": [
        "##3. アップロード"
      ]
    },
    {
      "metadata": {
        "id": "31xIZeChQ8Fj",
        "colab_type": "text"
      },
      "cell_type": "markdown",
      "source": [
        "3-1. 以下のコードを実行してください。"
      ]
    },
    {
      "metadata": {
        "id": "7aigBUq1HcH3",
        "colab_type": "code",
        "colab": {}
      },
      "cell_type": "code",
      "source": [
        "import os\n",
        "import sys\n",
        "import requests\n",
        "\n",
        "%cd /content/NVC_train\n",
        "\n",
        "outputs_dir = os.getcwd() + '/drive/My Drive/nvc'\n",
        "\n",
        "url = 'https://www.mumeigames.online/nvc/api/upload'\n",
        "\n",
        "file_name = outputs_dir + '/target.nvz'\n",
        "files = {'file': open(file_name, 'rb')}\n",
        "\n",
        "res = requests.post(url, files=files)\n",
        "if res.status_code != requests.codes.ok:\n",
        "    sys.exit()\n",
        "result_id = res.text\n",
        "if result_id == '':\n",
        "    sys.exit()\n",
        "\n",
        "print('---')\n",
        "print('音源データの生成・アップロードが完了しました。')\n",
        "print('ID: ' + result_id)\n",
        "print('---')\n",
        "print('実行用URL: https://www.mumeigames.online/nvc/?id=' + result_id)\n",
        "print('ツイートして他の人に伝える: https://twitter.com/?status=%e3%80%8c%e3%80%8d%e3%81%ab%e3%81%aa%e3%82%8a%e3%81%8d%e3%82%8b%e3%81%9f%e3%82%81%e3%81%ae%e3%83%9c%e3%82%a4%e3%82%b9%e3%83%81%e3%82%a7%e3%83%b3%e3%82%b8%e3%83%a3%e3%83%bc%e3%82%92%e4%bd%9c%e3%81%a3%e3%81%a6%e3%81%bf%e3%81%9f%ef%bc%9ahttps%3a%2f%2fwww%2emumeigames%2eonline%2fnvc%2f%3fid%3d' + result_id)\n",
        "print('---')"
      ],
      "execution_count": 0,
      "outputs": []
    }
  ]
}