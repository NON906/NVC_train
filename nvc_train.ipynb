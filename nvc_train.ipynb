{
  "nbformat": 4,
  "nbformat_minor": 0,
  "metadata": {
    "colab": {
      "name": "nvc_train.ipynb",
      "version": "0.3.2",
      "provenance": [],
      "collapsed_sections": []
    },
    "kernelspec": {
      "name": "python3",
      "display_name": "Python 3"
    },
    "accelerator": "TPU"
  },
  "cells": [
    {
      "cell_type": "markdown",
      "metadata": {
        "id": "0loz5gOz7anQ",
        "colab_type": "text"
      },
      "source": [
        "（※このファイルはGoogle Colaboratory用です。他の環境では未検証です）\n",
        "\n",
        "（※**Googleドライブの機能を使用します。**途中の結果がドライブ上に保存されます。空き容量に注意してください）\n",
        "\n",
        "（※2-1.以降の実行後、再度1-1.から実行したい場合は「ランタイム→すべてのランタイムのリセット...」を実行してリセットしてください）"
      ]
    },
    {
      "cell_type": "markdown",
      "metadata": {
        "id": "sUjVH8CvNxE_",
        "colab_type": "text"
      },
      "source": [
        "##1. 音源の学習処理"
      ]
    },
    {
      "cell_type": "markdown",
      "metadata": {
        "id": "BI17DC618ckR",
        "colab_type": "text"
      },
      "source": [
        "1-1. 以下のコードを実行し、音声ファイルを圧縮したzipファイルをアップロードしてください。"
      ]
    },
    {
      "cell_type": "code",
      "metadata": {
        "id": "VpcN4sZK4Gmr",
        "colab_type": "code",
        "colab": {}
      },
      "source": [
        "%cd /content\n",
        "\n",
        "# 音声の入ったzipファイルをアップロード\n",
        "from google.colab import files\n",
        "import os\n",
        "\n",
        "uploaded = files.upload()\n",
        "\n",
        "for fn in uploaded.keys():\n",
        "    os.rename(fn, 'targets.zip')"
      ],
      "execution_count": 0,
      "outputs": []
    },
    {
      "cell_type": "markdown",
      "metadata": {
        "id": "_j3zg8zn5iw-",
        "colab_type": "text"
      },
      "source": [
        "1-2. メイン処理です。以下のコードを実行してください。\n",
        "\n",
        "（途中でURLが表示され、止まることがあります。その場合はURLにアクセスし、キーを入力欄に貼り付けてください）\n",
        "\n",
        "（タイムアウトなどで途中で終了した場合でも、このコードを再度実行すれば続きから再開されます）\n",
        "\n",
        "（一度、他の音源を作成した場合は、実行前にドライブ上のnvcディレクトリを移動させるか、retrain_flagをFalseにしてください）\n",
        "\n",
        "（学習処理は自動で終了します。Epoch: 1/100000とか出ますが本当に100000回はかかりません）"
      ]
    },
    {
      "cell_type": "code",
      "metadata": {
        "colab_type": "code",
        "id": "DLdcVBSeb5WY",
        "colab": {}
      },
      "source": [
        "# ↓自動で音声ファイルを分割するかどうか\n",
        "# （【数秒程度に分割していない場合はTrueにしてください】）\n",
        "cut_flag = False\n",
        "# ↓データの水増しを行うかどうか\n",
        "# （精度を優先させたい場合はTrueにしてください）\n",
        "increase_flag = False\n",
        "# ↓途中で終了した場合にそこから再開するか。新規に作成する場合はFalseにすること\n",
        "# （通常は変更する必要はありません）\n",
        "retrain_flag = True\n",
        "# ---\n",
        "\n",
        "import zipfile\n",
        "import os\n",
        "import shutil\n",
        "import glob\n",
        "\n",
        "%cd /content\n",
        "\n",
        "if not os.path.isdir('NVC_train'):\n",
        "    # リポジトリをクローンし、フォルダ内へ移動\n",
        "    !git clone --depth 1 https://github.com/NON906/NVC_train.git\n",
        "    %cd NVC_train\n",
        "\n",
        "    # Googleドライブに接続\n",
        "    from google.colab import drive\n",
        "    drive.mount('drive')\n",
        "else:\n",
        "    %cd NVC_train\n",
        "    \n",
        "!pip install tensorflow==1.13.1 > /dev/null 2>&1\n",
        "import tensorflow as tf\n",
        "    \n",
        "# メイン処理開始\n",
        "\n",
        "outputs_dir = os.getcwd() + '/drive/My Drive/nvc'\n",
        "\n",
        "if not retrain_flag:\n",
        "    if os.path.isdir(outputs_dir):\n",
        "        shutil.rmtree(outputs_dir)\n",
        "    if os.path.isdir('gen_targets'):\n",
        "        shutil.rmtree('gen_targets')\n",
        "\n",
        "if (not os.path.isfile(outputs_dir + '/target.nvm') or not os.path.isfile(outputs_dir + '/gen_targets.zip')) and not os.path.isdir(outputs_dir + '/targets'):\n",
        "    # インストール\n",
        "    !apt-get update > /dev/null 2>&1\n",
        "    !apt-get -y install unar sox libsox-fmt-all csh > /dev/null 2>&1\n",
        "    !pip install pyworld > /dev/null 2>&1\n",
        "\n",
        "    # SPTKのインストール\n",
        "    !wget http://downloads.sourceforge.net/sp-tk/SPTK-3.11.tar.gz > /dev/null 2>&1\n",
        "    !unar SPTK-3.11.tar.gz > /dev/null 2>&1\n",
        "    %cd SPTK-3.11\n",
        "    !./configure > /dev/null 2>&1\n",
        "    !make > /dev/null 2>&1\n",
        "    !make install > /dev/null 2>&1\n",
        "    %cd ..\n",
        "\n",
        "    if cut_flag:\n",
        "        # アップロードしたzipファイルを解凍\n",
        "        !unar -o targets_zip ../targets.zip > /dev/null 2>&1\n",
        "\n",
        "        if os.path.isdir('targets') == False:\n",
        "            os.mkdir('targets')\n",
        "        input_voices = glob.glob('targets_zip/**/*', recursive=True)\n",
        "        del_files = glob.glob('targets_zip/**/.*', recursive=True)\n",
        "        for input_voice in input_voices:\n",
        "            if os.path.isdir(input_voice):\n",
        "                del_files.append(input_voice)\n",
        "        for del_file in del_files:\n",
        "            input_voices.remove(del_file)\n",
        "        for voice in input_voices:\n",
        "            save_file =  voice[len('targets_zip/'):].replace('/', '__')\n",
        "            # 音声ファイルの分割\n",
        "            save_file = save_file.replace('.', '__')\n",
        "            !sox \"{voice}\" \"targets/{save_file}_.wav\" silence -l 1 0.5 0.01% 1 0.5 0.01%: newfile : restart > /dev/null 2>&1\n",
        "            !rm \"{voice}\" > /dev/null 2>&1\n",
        "    else:\n",
        "        !unar -o targets ../targets.zip > /dev/null 2>&1\n",
        "\n",
        "from scripts.make_nvm import make_nvm_main\n",
        "from scripts.gen_targets import gen_targets_main\n",
        "\n",
        "if not os.path.isfile(outputs_dir + '/target.nvm'):\n",
        "    make_nvm_main('targets', outputs_dir + '/target.nvm')\n",
        "    \n",
        "if not os.path.isfile(outputs_dir + '/gen_targets.zip'):\n",
        "    if increase_flag:\n",
        "        gen_targets_main('targets', 'gen_targets', outputs_dir + '/gen_targets.zip')\n",
        "    else:\n",
        "        gen_targets_main('targets', 'gen_targets', outputs_dir + '/gen_targets.zip', cut_loop_length=1, reverse_flag=False)\n",
        "else:\n",
        "    with zipfile.ZipFile(outputs_dir + '/gen_targets.zip') as existing_zip:\n",
        "        existing_zip.extractall('gen_targets')\n",
        "    \n",
        "from scripts.target_train_tpu import target_train_tpu_main\n",
        "from scripts.target_train_tpu_convert import target_train_tpu_convert_main\n",
        "from tensorflow.keras.optimizers import Adam\n",
        "\n",
        "if not os.path.isfile(outputs_dir + '/target_tpu.h5'):\n",
        "    target_train_tpu_main('gen_targets', outputs_dir + '/target_tpu.h5', 5, 3200, 160, 1, optimizer=Adam(amsgrad=True), epochs=100000)\n",
        "else:\n",
        "    target_train_tpu_main('gen_targets', outputs_dir + '/target_tpu.h5', 5, 3200, 160, 1, optimizer=Adam(amsgrad=True), epochs=100000, retrain_file=outputs_dir + '/target_tpu.h5')\n",
        "target_train_tpu_convert_main(outputs_dir + '/target_tpu.h5', outputs_dir + '/target_weight.h5', outputs_dir + '/target.json')\n",
        "\n",
        "print('完了しました')\n"
      ],
      "execution_count": 0,
      "outputs": []
    },
    {
      "cell_type": "markdown",
      "metadata": {
        "id": "J52MwyWJOd6_",
        "colab_type": "text"
      },
      "source": [
        "---"
      ]
    },
    {
      "cell_type": "markdown",
      "metadata": {
        "id": "pZi6DpRwOh1U",
        "colab_type": "text"
      },
      "source": [
        "##2. 学習データの変換"
      ]
    },
    {
      "cell_type": "markdown",
      "metadata": {
        "id": "ZKjPJ5HIO6Ql",
        "colab_type": "text"
      },
      "source": [
        "2-1. 以下のコードを実行してください。"
      ]
    },
    {
      "cell_type": "code",
      "metadata": {
        "id": "qw91wGA18b08",
        "colab_type": "code",
        "colab": {}
      },
      "source": [
        "!pip install tensorflow==1.7.1"
      ],
      "execution_count": 0,
      "outputs": []
    },
    {
      "cell_type": "markdown",
      "metadata": {
        "id": "wrJvsHh2PA8L",
        "colab_type": "text"
      },
      "source": [
        "2-2. 上部メニューの「ランタイム→ランタイムを再起動...」から再起動してください。"
      ]
    },
    {
      "cell_type": "markdown",
      "metadata": {
        "id": "LcjunkhfQu1Y",
        "colab_type": "text"
      },
      "source": [
        "2-3. 以下のコードを実行してください。"
      ]
    },
    {
      "cell_type": "code",
      "metadata": {
        "id": "JD9AqcIycA2M",
        "colab_type": "code",
        "colab": {}
      },
      "source": [
        "import sys\n",
        "import os\n",
        "\n",
        "%cd /content\n",
        "\n",
        "if not os.path.isdir('NVC_train'):\n",
        "    # リポジトリをクローンし、フォルダ内へ移動\n",
        "    !git clone --depth 1 https://github.com/NON906/NVC_train.git\n",
        "    %cd NVC_train\n",
        "\n",
        "    # Googleドライブに接続\n",
        "    from google.colab import drive\n",
        "    drive.mount('drive')\n",
        "else:\n",
        "    %cd NVC_train\n",
        "    \n",
        "from scripts.target_convert_h5_to_pb import convert_h5_to_pb_main\n",
        "from scripts.make_nvz import make_nvz_main\n",
        "\n",
        "outputs_dir = os.getcwd() + '/drive/My Drive/nvc'\n",
        "\n",
        "convert_h5_to_pb_main(outputs_dir + '/target_weight.h5', outputs_dir + '/target.json', outputs_dir + '/target.pb', 'target_dense_f/add')\n",
        "make_nvz_main(outputs_dir + '/target.nvz', outputs_dir + '/target.nvm', outputs_dir + '/target.pb')"
      ],
      "execution_count": 0,
      "outputs": []
    },
    {
      "cell_type": "markdown",
      "metadata": {
        "id": "oJ0oxocrPk2V",
        "colab_type": "text"
      },
      "source": [
        "2-4. 2-3.の実行後、以下のコードからダウンロード版用のファイルをダウンロードできます。"
      ]
    },
    {
      "cell_type": "code",
      "metadata": {
        "id": "dSVxMMJVP1aL",
        "colab_type": "code",
        "colab": {}
      },
      "source": [
        "%cd /content/NVC_train\n",
        "\n",
        "from google.colab import files\n",
        "import os\n",
        "\n",
        "outputs_dir = os.getcwd() + '/drive/My Drive/nvc'\n",
        "files.download(outputs_dir + '/target.nvz')"
      ],
      "execution_count": 0,
      "outputs": []
    }
  ]
}